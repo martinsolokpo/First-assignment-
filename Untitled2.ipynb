{
 "cells": [
  {
   "cell_type": "code",
   "execution_count": 4,
   "id": "75f950c1-1b61-4649-8cad-c0b55f3291eb",
   "metadata": {},
   "outputs": [
    {
     "name": "stdout",
     "output_type": "stream",
     "text": [
      "12\n",
      "1\n"
     ]
    }
   ],
   "source": [
    "x=(1,2,3,7,9,12,4)\n",
    "a=max(x)\n",
    "print (a)\n",
    "print(min(x))"
   ]
  },
  {
   "cell_type": "code",
   "execution_count": 7,
   "id": "692ed568-226c-4773-9fc1-abb838413a69",
   "metadata": {},
   "outputs": [
    {
     "name": "stdout",
     "output_type": "stream",
     "text": [
      "zee\n",
      "abu\n"
     ]
    }
   ],
   "source": [
    "y=('alice','destiny','gift','treasure','martins','abu','xo','zee','rex')\n",
    "print(max(y))\n",
    "print(min(y))\n"
   ]
  },
  {
   "cell_type": "code",
   "execution_count": 37,
   "id": "0c573821-9ee7-4eec-b855-22abec832ba2",
   "metadata": {},
   "outputs": [
    {
     "name": "stdout",
     "output_type": "stream",
     "text": [
      "mycar: {'make': 'mercedes benz', 'model': 'c-class', 'year': '2002', 'engine': 'v6', 'colour': 'black'}\n",
      "merged: {'make': 'volks wagen', 'model': 'golfGT', 'year': '2002', 'engine': 'v6', 'colour': 'black'}\n",
      "updated: {'make': 'volks wagen', 'model': 'golfGT', 'year': '2002', 'engine': 'v6', 'colour': 'black'}\n",
      "2nd update: {'make': 'volks wagen', 'model': 'golfGT', 'year': '2002', 'engine': 'v6', 'colour': 'black'}\n",
      "Looped: {'make': 'volks wagen', 'model': 'golfGT', 'year': '2002', 'engine': 'v6', 'colour': 'black'}\n",
      "delete make: {'model': 'golfGT', 'year': '2002', 'engine': 'v6', 'colour': 'black'}\n"
     ]
    }
   ],
   "source": [
    "my_car={'make':'mercedes benz','model':'c-class','year':'2002','engine':'v6'}\n",
    "newcar={'make':'volks wagen','model':'golfGT'} \n",
    "my_car['colour']='black'\n",
    "print('mycar:', my_car)\n",
    "print('merged:',my_car|newcar)\n",
    "my_car.update(newcar)\n",
    "print('updated:',my_car)\n",
    "UPDATED={**my_car,**newcar}\n",
    "print('2nd update:',UPDATED)\n",
    "Looped=my_car.copy()\n",
    "for key,value in newcar.items():\n",
    "    Looped[key]=value\n",
    "print('Looped:',Looped)\n",
    "del my_car['make']\n",
    "print('delete make:',my_car)"
   ]
  },
  {
   "cell_type": "code",
   "execution_count": 39,
   "id": "868a49f6-dd83-4034-a6ac-46cecfbbc759",
   "metadata": {},
   "outputs": [
    {
     "name": "stdout",
     "output_type": "stream",
     "text": [
      "Tuple: ('pen', 'script', 'calculator', 'device', 'drive')\n",
      "List; ['pen', 'script', 'calculator', 'device', 'drive']\n"
     ]
    }
   ],
   "source": [
    "my_list=['pen','script','calculator','device','drive']\n",
    "tup= tuple(my_list)\n",
    "print('Tuple:',tup)\n",
    "print('List;',my_list)"
   ]
  },
  {
   "cell_type": "code",
   "execution_count": null,
   "id": "cb03fc96-6af1-4491-aba2-1de31eb19b06",
   "metadata": {},
   "outputs": [],
   "source": []
  },
  {
   "cell_type": "code",
   "execution_count": null,
   "id": "d9d7fb6f-e7ef-469e-ab1a-db732b2c6241",
   "metadata": {},
   "outputs": [],
   "source": []
  }
 ],
 "metadata": {
  "kernelspec": {
   "display_name": "Python 3 (ipykernel)",
   "language": "python",
   "name": "python3"
  },
  "language_info": {
   "codemirror_mode": {
    "name": "ipython",
    "version": 3
   },
   "file_extension": ".py",
   "mimetype": "text/x-python",
   "name": "python",
   "nbconvert_exporter": "python",
   "pygments_lexer": "ipython3",
   "version": "3.12.7"
  }
 },
 "nbformat": 4,
 "nbformat_minor": 5
}
